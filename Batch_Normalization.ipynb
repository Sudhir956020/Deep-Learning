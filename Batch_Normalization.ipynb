{
  "nbformat": 4,
  "nbformat_minor": 0,
  "metadata": {
    "colab": {
      "provenance": [],
      "gpuType": "T4",
      "authorship_tag": "ABX9TyM0JzSXfjCwrJKk/FMTjuBo",
      "include_colab_link": true
    },
    "kernelspec": {
      "name": "python3",
      "display_name": "Python 3"
    },
    "language_info": {
      "name": "python"
    },
    "accelerator": "GPU"
  },
  "cells": [
    {
      "cell_type": "markdown",
      "metadata": {
        "id": "view-in-github",
        "colab_type": "text"
      },
      "source": [
        "<a href=\"https://colab.research.google.com/github/Sudhir956020/Deep-Learning/blob/main/Batch_Normalization.ipynb\" target=\"_parent\"><img src=\"https://colab.research.google.com/assets/colab-badge.svg\" alt=\"Open In Colab\"/></a>"
      ]
    },
    {
      "cell_type": "code",
      "execution_count": null,
      "metadata": {
        "id": "NrERCNW9vHkk"
      },
      "outputs": [],
      "source": []
    },
    {
      "cell_type": "markdown",
      "source": [
        "Before applying Batch Normalization\n"
      ],
      "metadata": {
        "id": "q0kNjn3lvWrl"
      }
    },
    {
      "cell_type": "code",
      "source": [
        "import tensorflow as tf\n",
        "import numpy as np\n",
        "import matplotlib.pyplot as plt\n",
        "import time"
      ],
      "metadata": {
        "id": "JjpZOi3pvdTB"
      },
      "execution_count": 1,
      "outputs": []
    },
    {
      "cell_type": "code",
      "source": [
        "mnist = tf.keras.datasets.mnist\n",
        "(X_train_full,y_train_full), (X_test, y_test) = mnist.load_data()"
      ],
      "metadata": {
        "colab": {
          "base_uri": "https://localhost:8080/"
        },
        "id": "Q_YvFhCdwAGV",
        "outputId": "5ef64dc2-c837-4fd7-d323-c99c2390df21"
      },
      "execution_count": 2,
      "outputs": [
        {
          "output_type": "stream",
          "name": "stdout",
          "text": [
            "Downloading data from https://storage.googleapis.com/tensorflow/tf-keras-datasets/mnist.npz\n",
            "11490434/11490434 [==============================] - 0s 0us/step\n"
          ]
        }
      ]
    },
    {
      "cell_type": "code",
      "source": [
        "# Appying scaling (minmax)\n",
        "\n",
        "X_valid, X_train = X_train_full[:5000] / 255. , X_train_full[5000:] / 255.\n",
        "y_valid, y_train = y_train_full[:5000] , y_train_full[5000:]\n",
        "\n",
        "X_test = X_test / 255."
      ],
      "metadata": {
        "id": "M0oTJ4NmxANN"
      },
      "execution_count": 3,
      "outputs": []
    },
    {
      "cell_type": "code",
      "source": [
        "  LAYERS = [\n",
        "    tf.keras.layers.Flatten(input_shape = [28,28]),\n",
        "    tf.keras.layers.Dense(300,kernel_initializer='he_normal'),\n",
        "    tf.keras.layers.LeakyReLU(),\n",
        "    tf.keras.layers.Dense(100,kernel_initializer='he_normal'),\n",
        "    tf.keras.layers.LeakyReLU(),\n",
        "    tf.keras.layers.Dense(10,activation='softmax')\n",
        "\n",
        "]\n",
        "model = tf.keras.models.Sequential(LAYERS)"
      ],
      "metadata": {
        "id": "yYbYESO5w_iO"
      },
      "execution_count": 5,
      "outputs": []
    },
    {
      "cell_type": "code",
      "source": [
        "model.compile(loss = 'sparse_categorical_crossentropy', optimizer=tf.keras.optimizers.SGD(learning_rate=1e-3),metrics=['accuracy'])"
      ],
      "metadata": {
        "id": "YgDyBJkXzk42"
      },
      "execution_count": 6,
      "outputs": []
    },
    {
      "cell_type": "code",
      "source": [
        "model.summary()"
      ],
      "metadata": {
        "colab": {
          "base_uri": "https://localhost:8080/"
        },
        "id": "KoGDXH673HBN",
        "outputId": "d2d7c332-438a-47b5-98ff-1078ec51c962"
      },
      "execution_count": 8,
      "outputs": [
        {
          "output_type": "stream",
          "name": "stdout",
          "text": [
            "Model: \"sequential\"\n",
            "_________________________________________________________________\n",
            " Layer (type)                Output Shape              Param #   \n",
            "=================================================================\n",
            " flatten_1 (Flatten)         (None, 784)               0         \n",
            "                                                                 \n",
            " dense_3 (Dense)             (None, 300)               235500    \n",
            "                                                                 \n",
            " leaky_re_lu_2 (LeakyReLU)   (None, 300)               0         \n",
            "                                                                 \n",
            " dense_4 (Dense)             (None, 100)               30100     \n",
            "                                                                 \n",
            " leaky_re_lu_3 (LeakyReLU)   (None, 100)               0         \n",
            "                                                                 \n",
            " dense_5 (Dense)             (None, 10)                1010      \n",
            "                                                                 \n",
            "=================================================================\n",
            "Total params: 266,610\n",
            "Trainable params: 266,610\n",
            "Non-trainable params: 0\n",
            "_________________________________________________________________\n"
          ]
        }
      ]
    },
    {
      "cell_type": "code",
      "source": [
        "  start = time.time()\n",
        "  history = model.fit(X_train, y_train,epochs=10,validation_data=(X_valid,y_valid))\n",
        "  end=time.time()\n",
        "\n",
        "  #total time\n",
        "  print(f\"Runtime of the program is {end - start}\")"
      ],
      "metadata": {
        "colab": {
          "base_uri": "https://localhost:8080/"
        },
        "id": "axy3S2zC3JMz",
        "outputId": "12993333-deef-414b-c412-840b42c6ddd6"
      },
      "execution_count": 10,
      "outputs": [
        {
          "output_type": "stream",
          "name": "stdout",
          "text": [
            "Epoch 1/10\n",
            "1719/1719 [==============================] - 11s 4ms/step - loss: 1.4868 - accuracy: 0.6309 - val_loss: 0.9207 - val_accuracy: 0.8056\n",
            "Epoch 2/10\n",
            "1719/1719 [==============================] - 5s 3ms/step - loss: 0.7365 - accuracy: 0.8255 - val_loss: 0.5875 - val_accuracy: 0.8528\n",
            "Epoch 3/10\n",
            "1719/1719 [==============================] - 6s 3ms/step - loss: 0.5437 - accuracy: 0.8580 - val_loss: 0.4723 - val_accuracy: 0.8770\n",
            "Epoch 4/10\n",
            "1719/1719 [==============================] - 5s 3ms/step - loss: 0.4636 - accuracy: 0.8741 - val_loss: 0.4156 - val_accuracy: 0.8888\n",
            "Epoch 5/10\n",
            "1719/1719 [==============================] - 6s 4ms/step - loss: 0.4190 - accuracy: 0.8847 - val_loss: 0.3793 - val_accuracy: 0.8968\n",
            "Epoch 6/10\n",
            "1719/1719 [==============================] - 5s 3ms/step - loss: 0.3899 - accuracy: 0.8913 - val_loss: 0.3556 - val_accuracy: 0.9040\n",
            "Epoch 7/10\n",
            "1719/1719 [==============================] - 6s 3ms/step - loss: 0.3689 - accuracy: 0.8970 - val_loss: 0.3376 - val_accuracy: 0.9094\n",
            "Epoch 8/10\n",
            "1719/1719 [==============================] - 6s 3ms/step - loss: 0.3527 - accuracy: 0.9010 - val_loss: 0.3238 - val_accuracy: 0.9126\n",
            "Epoch 9/10\n",
            "1719/1719 [==============================] - 5s 3ms/step - loss: 0.3397 - accuracy: 0.9037 - val_loss: 0.3126 - val_accuracy: 0.9144\n",
            "Epoch 10/10\n",
            "1719/1719 [==============================] - 6s 4ms/step - loss: 0.3287 - accuracy: 0.9075 - val_loss: 0.3034 - val_accuracy: 0.9178\n",
            "Runtime of the program is 62.21785020828247\n"
          ]
        }
      ]
    },
    {
      "cell_type": "code",
      "source": [
        "## After batch normalization"
      ],
      "metadata": {
        "id": "sLrUsoAh4XF6"
      },
      "execution_count": 11,
      "outputs": []
    },
    {
      "cell_type": "code",
      "source": [
        "#After batch normalization"
      ],
      "metadata": {
        "id": "Lj4bIMQv5Jja"
      },
      "execution_count": 12,
      "outputs": []
    },
    {
      "cell_type": "code",
      "source": [
        "del model # deleting the previous model"
      ],
      "metadata": {
        "colab": {
          "base_uri": "https://localhost:8080/",
          "height": 176
        },
        "id": "1vNVqKQB8_lK",
        "outputId": "e529a7b4-c2b9-4c77-c303-4bae92f72af9"
      },
      "execution_count": 14,
      "outputs": [
        {
          "output_type": "error",
          "ename": "NameError",
          "evalue": "ignored",
          "traceback": [
            "\u001b[0;31m---------------------------------------------------------------------------\u001b[0m",
            "\u001b[0;31mNameError\u001b[0m                                 Traceback (most recent call last)",
            "\u001b[0;32m<ipython-input-14-227fe2d729ca>\u001b[0m in \u001b[0;36m<cell line: 1>\u001b[0;34m()\u001b[0m\n\u001b[0;32m----> 1\u001b[0;31m \u001b[0;32mdel\u001b[0m \u001b[0mmodel\u001b[0m \u001b[0;31m# deleting the previous model\u001b[0m\u001b[0;34m\u001b[0m\u001b[0;34m\u001b[0m\u001b[0m\n\u001b[0m",
            "\u001b[0;31mNameError\u001b[0m: name 'model' is not defined"
          ]
        }
      ]
    },
    {
      "cell_type": "code",
      "source": [
        "  LAYERS = [\n",
        "    tf.keras.layers.Flatten(input_shape = [28,28]),\n",
        "    tf.keras.layers.BatchNormalization(),\n",
        "    tf.keras.layers.Dense(300,kernel_initializer='he_normal'),\n",
        "    tf.keras.layers.LeakyReLU(),\n",
        "    tf.keras.layers.BatchNormalization(),\n",
        "    tf.keras.layers.Dense(100,kernel_initializer='he_normal'),\n",
        "    tf.keras.layers.LeakyReLU(),\n",
        "    tf.keras.layers.BatchNormalization(),\n",
        "    tf.keras.layers.Dense(10,activation='softmax')\n",
        "\n",
        "]\n",
        "model = tf.keras.models.Sequential(LAYERS)"
      ],
      "metadata": {
        "id": "DeIUKPHl9G_X"
      },
      "execution_count": 15,
      "outputs": []
    },
    {
      "cell_type": "code",
      "source": [
        "model.summary()"
      ],
      "metadata": {
        "colab": {
          "base_uri": "https://localhost:8080/"
        },
        "id": "4iqwp-sN-DAq",
        "outputId": "8eb12e6e-6f83-43a9-d6c2-a80f26c97e93"
      },
      "execution_count": 17,
      "outputs": [
        {
          "output_type": "stream",
          "name": "stdout",
          "text": [
            "Model: \"sequential_1\"\n",
            "_________________________________________________________________\n",
            " Layer (type)                Output Shape              Param #   \n",
            "=================================================================\n",
            " flatten_2 (Flatten)         (None, 784)               0         \n",
            "                                                                 \n",
            " batch_normalization (BatchN  (None, 784)              3136      \n",
            " ormalization)                                                   \n",
            "                                                                 \n",
            " dense_6 (Dense)             (None, 300)               235500    \n",
            "                                                                 \n",
            " leaky_re_lu_4 (LeakyReLU)   (None, 300)               0         \n",
            "                                                                 \n",
            " batch_normalization_1 (Batc  (None, 300)              1200      \n",
            " hNormalization)                                                 \n",
            "                                                                 \n",
            " dense_7 (Dense)             (None, 100)               30100     \n",
            "                                                                 \n",
            " leaky_re_lu_5 (LeakyReLU)   (None, 100)               0         \n",
            "                                                                 \n",
            " batch_normalization_2 (Batc  (None, 100)              400       \n",
            " hNormalization)                                                 \n",
            "                                                                 \n",
            " dense_8 (Dense)             (None, 10)                1010      \n",
            "                                                                 \n",
            "=================================================================\n",
            "Total params: 271,346\n",
            "Trainable params: 268,978\n",
            "Non-trainable params: 2,368\n",
            "_________________________________________________________________\n"
          ]
        }
      ]
    },
    {
      "cell_type": "code",
      "source": [
        "model.compile(loss = 'sparse_categorical_crossentropy', optimizer=tf.keras.optimizers.SGD(learning_rate=1e-3),metrics=['accuracy'])"
      ],
      "metadata": {
        "id": "xJR3hfGD-FsC"
      },
      "execution_count": 18,
      "outputs": []
    },
    {
      "cell_type": "code",
      "source": [
        "  start = time.time()\n",
        "  history = model.fit(X_train, y_train,epochs=10,validation_data=(X_valid,y_valid))\n",
        "  end=time.time()\n",
        "\n",
        "  #total time\n",
        "  print(f\"Runtime of the program is {end - start}\")"
      ],
      "metadata": {
        "colab": {
          "base_uri": "https://localhost:8080/"
        },
        "id": "4HMKfVMI-hAR",
        "outputId": "9d2b3136-3e2a-4c51-dd6c-edf5ced846b0"
      },
      "execution_count": 19,
      "outputs": [
        {
          "output_type": "stream",
          "name": "stdout",
          "text": [
            "Epoch 1/10\n",
            "1719/1719 [==============================] - 10s 5ms/step - loss: 0.9084 - accuracy: 0.7244 - val_loss: 0.4985 - val_accuracy: 0.8602\n",
            "Epoch 2/10\n",
            "1719/1719 [==============================] - 9s 5ms/step - loss: 0.4885 - accuracy: 0.8596 - val_loss: 0.3909 - val_accuracy: 0.8872\n",
            "Epoch 3/10\n",
            "1719/1719 [==============================] - 8s 5ms/step - loss: 0.4133 - accuracy: 0.8785 - val_loss: 0.3410 - val_accuracy: 0.9046\n",
            "Epoch 4/10\n",
            "1719/1719 [==============================] - 9s 5ms/step - loss: 0.3715 - accuracy: 0.8917 - val_loss: 0.3129 - val_accuracy: 0.9110\n",
            "Epoch 5/10\n",
            "1719/1719 [==============================] - 9s 5ms/step - loss: 0.3436 - accuracy: 0.8990 - val_loss: 0.2925 - val_accuracy: 0.9170\n",
            "Epoch 6/10\n",
            "1719/1719 [==============================] - 9s 5ms/step - loss: 0.3268 - accuracy: 0.9051 - val_loss: 0.2773 - val_accuracy: 0.9238\n",
            "Epoch 7/10\n",
            "1719/1719 [==============================] - 9s 5ms/step - loss: 0.3083 - accuracy: 0.9099 - val_loss: 0.2667 - val_accuracy: 0.9264\n",
            "Epoch 8/10\n",
            "1719/1719 [==============================] - 9s 5ms/step - loss: 0.2948 - accuracy: 0.9140 - val_loss: 0.2547 - val_accuracy: 0.9282\n",
            "Epoch 9/10\n",
            "1719/1719 [==============================] - 9s 5ms/step - loss: 0.2840 - accuracy: 0.9174 - val_loss: 0.2467 - val_accuracy: 0.9294\n",
            "Epoch 10/10\n",
            "1719/1719 [==============================] - 8s 5ms/step - loss: 0.2747 - accuracy: 0.9201 - val_loss: 0.2392 - val_accuracy: 0.9320\n",
            "Runtime of the program is 89.21416759490967\n"
          ]
        }
      ]
    },
    {
      "cell_type": "code",
      "source": [],
      "metadata": {
        "id": "RcBwsPY4-iIT"
      },
      "execution_count": null,
      "outputs": []
    }
  ]
}