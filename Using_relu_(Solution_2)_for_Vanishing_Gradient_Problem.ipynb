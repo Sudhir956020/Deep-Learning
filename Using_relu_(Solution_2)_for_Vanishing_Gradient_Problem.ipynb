{
  "nbformat": 4,
  "nbformat_minor": 0,
  "metadata": {
    "colab": {
      "provenance": [],
      "gpuType": "T4",
      "authorship_tag": "ABX9TyOQ8A03wMLhUA0BTXtHNnsI",
      "include_colab_link": true
    },
    "kernelspec": {
      "name": "python3",
      "display_name": "Python 3"
    },
    "language_info": {
      "name": "python"
    },
    "accelerator": "GPU"
  },
  "cells": [
    {
      "cell_type": "markdown",
      "metadata": {
        "id": "view-in-github",
        "colab_type": "text"
      },
      "source": [
        "<a href=\"https://colab.research.google.com/github/Sudhir956020/Deep-Learning/blob/main/Using_relu_(Solution_2)_for_Vanishing_Gradient_Problem.ipynb\" target=\"_parent\"><img src=\"https://colab.research.google.com/assets/colab-badge.svg\" alt=\"Open In Colab\"/></a>"
      ]
    },
    {
      "cell_type": "code",
      "execution_count": null,
      "metadata": {
        "id": "e0q_R-0xsW-5"
      },
      "outputs": [],
      "source": [
        "import tensorflow as tf\n",
        "import keras\n",
        "from keras.layers import Dense\n",
        "from keras.models import Sequential\n",
        "import matplotlib.pyplot as plt\n",
        "import numpy as np\n",
        "from sklearn.datasets import make_moons\n",
        "from sklearn.model_selection import train_test_split"
      ]
    },
    {
      "cell_type": "code",
      "source": [
        "X,y = make_moons(n_samples=250, noise = 0.05, random_state=42)"
      ],
      "metadata": {
        "id": "uVV1n9asu7bX"
      },
      "execution_count": null,
      "outputs": []
    },
    {
      "cell_type": "code",
      "source": [
        "X.shape"
      ],
      "metadata": {
        "colab": {
          "base_uri": "https://localhost:8080/"
        },
        "id": "sLrZNZZMvW94",
        "outputId": "b4eee527-a088-4504-9290-c250496d4449"
      },
      "execution_count": null,
      "outputs": [
        {
          "output_type": "execute_result",
          "data": {
            "text/plain": [
              "(250, 2)"
            ]
          },
          "metadata": {},
          "execution_count": 3
        }
      ]
    },
    {
      "cell_type": "code",
      "source": [
        "X"
      ],
      "metadata": {
        "colab": {
          "base_uri": "https://localhost:8080/"
        },
        "id": "EwOGnpfDvZHo",
        "outputId": "34e94a13-ba46-4d4e-c3d7-e29e95a301c8"
      },
      "execution_count": null,
      "outputs": [
        {
          "output_type": "execute_result",
          "data": {
            "text/plain": [
              "array([[ 8.41540974e-02,  1.13341197e-01],\n",
              "       [ 1.05091536e+00,  1.54710235e-01],\n",
              "       [-7.16555269e-01,  6.75607887e-01],\n",
              "       [ 6.09316755e-02,  9.26542340e-01],\n",
              "       [-1.00552480e+00,  3.36425155e-01],\n",
              "       [ 7.63045744e-01, -4.82519400e-01],\n",
              "       [ 1.30067681e+00, -4.60456076e-01],\n",
              "       [ 8.93997023e-01, -5.39443631e-01],\n",
              "       [ 1.01492378e+00,  2.49633435e-01],\n",
              "       [-8.88621081e-01,  5.38566586e-01],\n",
              "       [ 1.36613788e+00, -3.56819676e-01],\n",
              "       [ 1.69872955e+00, -2.50238607e-01],\n",
              "       [ 1.93909982e+00,  7.98335031e-02],\n",
              "       [ 1.98164910e+00,  2.73166182e-01],\n",
              "       [-1.92842298e-01,  9.90722796e-01],\n",
              "       [ 1.87318667e+00, -1.28604429e-01],\n",
              "       [ 1.12842503e+00, -4.29068613e-01],\n",
              "       [ 9.60365014e-01,  5.24004362e-01],\n",
              "       [ 6.83418960e-01, -4.32057757e-01],\n",
              "       [ 8.36557987e-01,  5.74232279e-01],\n",
              "       [ 2.04424212e+00,  4.47864563e-01],\n",
              "       [ 7.89541222e-01,  4.20628768e-01],\n",
              "       [-8.99855447e-01,  3.09253977e-01],\n",
              "       [-1.70083737e-01,  1.01364818e+00],\n",
              "       [ 8.64100790e-01, -4.62976070e-01],\n",
              "       [ 4.16929826e-01,  9.18202726e-01],\n",
              "       [ 2.06768552e-01,  9.66869965e-01],\n",
              "       [ 9.98383587e-01,  1.53441053e-01],\n",
              "       [ 7.41612725e-01,  6.91498410e-01],\n",
              "       [-1.00574217e+00,  7.74054546e-02],\n",
              "       [ 1.31683658e+00, -4.78428187e-01],\n",
              "       [ 5.54481432e-01,  7.28612668e-01],\n",
              "       [ 1.35858678e-01,  8.88735937e-02],\n",
              "       [ 1.75654841e+00, -2.42976963e-01],\n",
              "       [ 7.40743386e-01,  5.54338955e-01],\n",
              "       [-9.97524363e-01,  2.64286007e-01],\n",
              "       [ 9.20293241e-01,  5.29340369e-01],\n",
              "       [ 1.19270090e+00, -5.58707061e-01],\n",
              "       [ 8.56420100e-01, -5.56110065e-01],\n",
              "       [ 2.89464236e-01, -2.34008340e-01],\n",
              "       [-9.96733805e-01,  1.17069019e-01],\n",
              "       [-7.55340560e-01,  6.30902041e-01],\n",
              "       [-8.24480429e-01,  3.60565618e-01],\n",
              "       [ 9.03680204e-01, -5.21468166e-01],\n",
              "       [ 1.75437757e+00, -1.02159856e-01],\n",
              "       [ 8.19380922e-01,  4.15657148e-01],\n",
              "       [ 1.11163727e-01,  3.15453600e-02],\n",
              "       [-1.78801952e-01,  1.01024975e+00],\n",
              "       [ 6.33124657e-01, -4.15851002e-01],\n",
              "       [ 6.54456705e-01,  7.83801620e-01],\n",
              "       [ 1.03252524e-02,  2.99269369e-01],\n",
              "       [ 1.90041253e+00, -9.29652950e-02],\n",
              "       [ 1.92478212e+00,  1.95990042e-01],\n",
              "       [-9.98773046e-01,  8.66633440e-02],\n",
              "       [ 2.01607705e-02,  2.32763980e-01],\n",
              "       [-1.06941992e-01,  1.03645475e+00],\n",
              "       [ 1.67299917e+00, -2.35023613e-01],\n",
              "       [ 2.71539502e-01, -5.81445137e-02],\n",
              "       [ 4.97623260e-01, -2.90178812e-01],\n",
              "       [ 1.81516796e+00,  2.61465591e-02],\n",
              "       [ 1.90198850e+00,  6.48805981e-02],\n",
              "       [ 3.27847838e-01, -1.77111950e-01],\n",
              "       [-1.00837743e+00,  7.17300661e-02],\n",
              "       [-5.49966384e-01,  8.55604463e-01],\n",
              "       [ 9.06805597e-05,  5.37796764e-01],\n",
              "       [ 6.11375169e-01, -3.53652874e-01],\n",
              "       [ 2.02325774e+00,  4.06240765e-01],\n",
              "       [-8.70031210e-01,  3.97519601e-01],\n",
              "       [ 6.66505683e-01, -3.38205158e-01],\n",
              "       [ 1.94000221e+00,  1.15502286e-01],\n",
              "       [-2.52781645e-01,  1.01822885e+00],\n",
              "       [ 3.54686494e-01, -1.88981657e-01],\n",
              "       [-1.00756489e+00,  1.82643859e-01],\n",
              "       [-3.50689868e-01,  8.82880254e-01],\n",
              "       [ 1.95965424e+00,  1.79135608e-01],\n",
              "       [-4.23791395e-01,  8.09785398e-01],\n",
              "       [ 8.19759719e-01,  6.21324827e-01],\n",
              "       [-6.15906179e-02,  4.33434719e-01],\n",
              "       [-3.19944988e-01,  9.06668534e-01],\n",
              "       [-5.44796440e-01,  8.11568854e-01],\n",
              "       [ 9.87483245e-01,  1.01044592e-01],\n",
              "       [ 1.53964975e-01,  1.01319832e+00],\n",
              "       [ 1.05858256e+00, -5.93402519e-01],\n",
              "       [ 1.97834556e+00,  8.60038698e-02],\n",
              "       [ 5.64102869e-01, -4.36058965e-01],\n",
              "       [-2.37493320e-02,  1.00856184e+00],\n",
              "       [-5.35625551e-03,  1.47203879e-01],\n",
              "       [-9.42781423e-01,  4.28932329e-02],\n",
              "       [ 1.58076309e+00, -3.57876102e-01],\n",
              "       [ 1.48729531e-01,  1.12406541e-01],\n",
              "       [ 6.29856834e-01,  6.64970026e-01],\n",
              "       [ 9.73741351e-01,  2.93136861e-01],\n",
              "       [ 6.21931794e-01,  8.76251701e-01],\n",
              "       [ 7.16095126e-01,  6.50658455e-01],\n",
              "       [ 4.95397335e-01,  8.34109782e-01],\n",
              "       [ 1.63507414e+00, -1.93640898e-01],\n",
              "       [ 9.39327586e-01,  5.49193155e-01],\n",
              "       [-7.02603152e-01,  7.11243303e-01],\n",
              "       [ 1.57895616e+00, -2.46854147e-01],\n",
              "       [-8.60243926e-01,  4.82453441e-01],\n",
              "       [ 1.96013416e-01,  9.65367181e-01],\n",
              "       [-6.88978962e-01,  6.82259107e-01],\n",
              "       [ 8.63270212e-02,  8.25279133e-02],\n",
              "       [ 1.30867374e+00, -4.12829733e-01],\n",
              "       [-2.80980058e-01,  8.90032626e-01],\n",
              "       [ 3.90315962e-01,  8.44195161e-01],\n",
              "       [-1.01238380e+00,  3.16694022e-01],\n",
              "       [ 1.88767659e-01, -2.25730970e-01],\n",
              "       [-4.23065928e-01,  8.44359095e-01],\n",
              "       [ 2.30863628e-01, -5.38191260e-03],\n",
              "       [ 8.23153642e-01,  6.38907309e-01],\n",
              "       [ 2.02153850e+00,  3.55368581e-01],\n",
              "       [ 4.22720017e-01, -4.05969894e-01],\n",
              "       [ 1.94612164e+00,  3.46309741e-01],\n",
              "       [-8.23563555e-02,  2.57773171e-01],\n",
              "       [ 9.05162639e-01,  2.99546663e-02],\n",
              "       [ 9.90312968e-01,  6.49079351e-02],\n",
              "       [-3.94545588e-01,  9.39513323e-01],\n",
              "       [ 3.70761979e-01,  8.91148754e-01],\n",
              "       [-8.65625258e-01,  6.47559713e-01],\n",
              "       [ 1.96289637e-02,  4.59825674e-01],\n",
              "       [ 1.50193647e-01, -1.03619463e-01],\n",
              "       [ 1.95031761e+00,  4.50109109e-01],\n",
              "       [-7.11828602e-01,  8.38215329e-01],\n",
              "       [-5.88138020e-01,  7.91217871e-01],\n",
              "       [ 6.34356363e-01, -4.92699529e-01],\n",
              "       [ 1.17655385e+00, -4.82003919e-01],\n",
              "       [-8.23041847e-01,  5.32075432e-01],\n",
              "       [ 5.36377240e-01,  8.24758720e-01],\n",
              "       [ 1.91932769e-02,  1.03212374e+00],\n",
              "       [ 4.47136711e-01, -2.98474265e-01],\n",
              "       [ 6.61329477e-04,  1.62173993e-01],\n",
              "       [ 1.03139656e+00,  2.52724712e-01],\n",
              "       [ 2.00901794e+00,  3.72972507e-01],\n",
              "       [ 1.34371500e+00, -4.95306035e-01],\n",
              "       [ 8.32692245e-01,  6.13191507e-01],\n",
              "       [ 2.40499915e-01, -1.83473915e-01],\n",
              "       [ 1.01199217e+00,  1.96744802e-01],\n",
              "       [-9.82739628e-01,  6.03130719e-02],\n",
              "       [ 7.68774066e-01,  7.54845484e-01],\n",
              "       [ 8.14262083e-02,  1.04801875e-01],\n",
              "       [ 7.36970991e-01, -5.06578512e-01],\n",
              "       [ 1.13245960e-02,  1.29749761e-01],\n",
              "       [ 1.66586647e-02,  9.87104892e-01],\n",
              "       [-1.41985580e-01,  2.35934315e-01],\n",
              "       [-2.30085262e-02,  4.68708154e-01],\n",
              "       [ 1.80680888e+00,  7.66701743e-02],\n",
              "       [ 1.51023383e+00, -4.17300059e-01],\n",
              "       [-1.43817366e-01,  1.00579053e+00],\n",
              "       [ 1.13801188e+00, -4.51854564e-01],\n",
              "       [-4.79456251e-02,  1.01073406e+00],\n",
              "       [ 4.81561777e-01,  1.00042718e+00],\n",
              "       [ 4.83595738e-01, -3.71334091e-01],\n",
              "       [ 4.27502468e-01,  9.46709431e-01],\n",
              "       [-1.01284116e+00,  5.20731788e-02],\n",
              "       [ 3.36537239e-01, -1.39992367e-01],\n",
              "       [ 8.25238299e-01,  6.21276364e-01],\n",
              "       [ 1.59430507e+00, -2.91458161e-01],\n",
              "       [ 8.22673634e-01, -4.34573563e-01],\n",
              "       [-4.44217241e-01,  8.17780564e-01],\n",
              "       [ 5.74547421e-01,  7.31845529e-01],\n",
              "       [ 1.64606277e+00, -4.03736997e-01],\n",
              "       [ 4.51539239e-01,  8.88005222e-01],\n",
              "       [-6.96781502e-01,  6.43360506e-01],\n",
              "       [ 1.12578888e+00, -5.08878851e-01],\n",
              "       [ 4.11282995e-01, -2.90022518e-01],\n",
              "       [ 3.94713405e-01,  9.11565376e-01],\n",
              "       [ 1.00491510e-01,  6.69636771e-02],\n",
              "       [ 8.61868415e-01, -4.95825373e-01],\n",
              "       [ 1.08125924e+00,  1.95014954e-01],\n",
              "       [-8.47058335e-01,  4.48639639e-01],\n",
              "       [ 2.07315004e-01,  9.33182299e-01],\n",
              "       [-1.07918504e-02,  2.85020993e-01],\n",
              "       [ 1.94685691e+00, -3.88250939e-02],\n",
              "       [ 1.09012513e+00, -4.86385061e-01],\n",
              "       [ 1.91757921e+00,  8.42727807e-02],\n",
              "       [ 3.63422548e-01,  9.49699645e-01],\n",
              "       [ 4.67168160e-01, -3.59780609e-01],\n",
              "       [-3.51357680e-01,  9.10428529e-01],\n",
              "       [ 6.71383431e-01,  7.19532528e-01],\n",
              "       [ 1.48658799e+00, -3.53806780e-01],\n",
              "       [ 9.25826602e-01,  9.34651868e-02],\n",
              "       [ 6.20327446e-01, -4.43396303e-01],\n",
              "       [-9.24756059e-01,  2.82753449e-01],\n",
              "       [-7.48410140e-01,  7.52348059e-01],\n",
              "       [-5.24784978e-01,  7.56237025e-01],\n",
              "       [ 1.85793068e+00, -1.77488836e-01],\n",
              "       [ 1.99043825e+00, -3.84966266e-02],\n",
              "       [-6.11864010e-01,  8.57363102e-01],\n",
              "       [ 1.05350164e+00,  3.00605340e-01],\n",
              "       [ 8.70095557e-01,  2.66644712e-01],\n",
              "       [ 8.72329779e-02,  1.03910029e+00],\n",
              "       [ 1.65081111e+00, -3.40657824e-01],\n",
              "       [ 3.63605836e-02,  3.38859653e-01],\n",
              "       [ 8.98360843e-01,  3.03611471e-01],\n",
              "       [ 5.32578420e-01, -3.54511798e-01],\n",
              "       [-1.60894304e-01,  9.64351737e-01],\n",
              "       [ 1.77033059e+00, -1.28793935e-01],\n",
              "       [-6.14242259e-02,  4.04786927e-01],\n",
              "       [ 1.39596937e+00, -3.83944461e-01],\n",
              "       [ 1.91838913e+00, -3.73585050e-03],\n",
              "       [ 6.70163023e-02,  1.01297684e+00],\n",
              "       [ 1.90624888e-01,  9.86455339e-01],\n",
              "       [-8.70460181e-01,  4.18048901e-01],\n",
              "       [ 3.43459618e-01,  8.69895649e-01],\n",
              "       [ 1.93067862e+00,  1.42407452e-01],\n",
              "       [ 7.76412421e-01, -3.47049763e-01],\n",
              "       [ 1.53862659e+00, -4.12402904e-01],\n",
              "       [ 1.17014308e+00, -5.28937231e-01],\n",
              "       [ 1.98645256e+00,  4.32043556e-01],\n",
              "       [ 1.50787776e+00, -3.42156486e-01],\n",
              "       [ 1.79295620e+00, -1.58598687e-01],\n",
              "       [ 5.93010896e-01, -4.07264923e-01],\n",
              "       [ 1.30133494e-01,  1.01973391e+00],\n",
              "       [ 3.85447617e-01,  9.69650467e-01],\n",
              "       [-6.34227601e-01,  8.13711246e-01],\n",
              "       [ 8.94441988e-01,  4.42739571e-01],\n",
              "       [ 1.12636377e-01,  1.02239287e+00],\n",
              "       [ 1.47982048e+00, -3.77712802e-01],\n",
              "       [ 4.56676861e-01, -2.94934321e-01],\n",
              "       [ 1.99682455e+00,  3.63866999e-01],\n",
              "       [ 8.83682414e-01, -4.24459839e-01],\n",
              "       [ 1.00812283e+00, -4.45022320e-01],\n",
              "       [ 3.94722661e-02,  2.81852028e-01],\n",
              "       [ 4.77423984e-01,  8.77652359e-01],\n",
              "       [ 3.71769184e-01, -2.68835969e-01],\n",
              "       [ 1.89365819e+00,  1.78324996e-01],\n",
              "       [ 9.99041868e-01,  7.80524751e-02],\n",
              "       [ 2.74631578e-01,  1.04722866e+00],\n",
              "       [ 2.27740448e-01, -3.52295626e-02],\n",
              "       [-9.59341307e-03,  3.52395343e-01],\n",
              "       [ 2.06636314e-01, -2.00588291e-02],\n",
              "       [-8.82085737e-01,  5.20322240e-01],\n",
              "       [-9.18268409e-01,  6.25667483e-01],\n",
              "       [-8.66670027e-01,  1.54616615e-01],\n",
              "       [-4.33154940e-01,  8.15140294e-01],\n",
              "       [ 1.24230304e+00, -4.47929912e-01],\n",
              "       [-2.32841195e-01,  1.05410512e+00],\n",
              "       [ 1.66784697e+00, -1.96635930e-01],\n",
              "       [ 1.49140344e+00, -3.68984892e-01],\n",
              "       [-1.08108588e+00,  4.56799604e-02],\n",
              "       [ 2.03809595e+00,  5.10632788e-01],\n",
              "       [ 9.17739068e-01,  4.38476262e-01],\n",
              "       [ 9.81556463e-01, -4.89448565e-01],\n",
              "       [-2.56180461e-01,  1.03920861e+00],\n",
              "       [-9.29175484e-01,  4.15624689e-01],\n",
              "       [ 9.58694103e-01,  3.27840843e-01],\n",
              "       [-7.50714139e-01,  6.69824996e-01],\n",
              "       [ 8.25589778e-01, -5.47465517e-01],\n",
              "       [-7.78786036e-01,  4.94444046e-01]])"
            ]
          },
          "metadata": {},
          "execution_count": 4
        }
      ]
    },
    {
      "cell_type": "code",
      "source": [
        "y"
      ],
      "metadata": {
        "colab": {
          "base_uri": "https://localhost:8080/"
        },
        "id": "KjuoVIeUvads",
        "outputId": "6f4aa227-952c-4c27-ca8a-547ba688bffe"
      },
      "execution_count": null,
      "outputs": [
        {
          "output_type": "execute_result",
          "data": {
            "text/plain": [
              "array([1, 0, 0, 0, 0, 1, 1, 1, 0, 0, 1, 1, 1, 1, 0, 1, 1, 0, 1, 0, 1, 0,\n",
              "       0, 0, 1, 0, 0, 0, 0, 0, 1, 0, 1, 1, 0, 0, 0, 1, 1, 1, 0, 0, 0, 1,\n",
              "       1, 0, 1, 0, 1, 0, 1, 1, 1, 0, 1, 0, 1, 1, 1, 1, 1, 1, 0, 0, 1, 1,\n",
              "       1, 0, 1, 1, 0, 1, 0, 0, 1, 0, 0, 1, 0, 0, 0, 0, 1, 1, 1, 0, 1, 0,\n",
              "       1, 1, 0, 0, 0, 0, 0, 1, 0, 0, 1, 0, 0, 0, 1, 1, 0, 0, 0, 1, 0, 1,\n",
              "       0, 1, 1, 1, 1, 0, 0, 0, 0, 0, 1, 1, 1, 0, 0, 1, 1, 0, 0, 0, 1, 1,\n",
              "       0, 1, 1, 0, 1, 0, 0, 0, 1, 1, 1, 0, 1, 1, 1, 1, 0, 1, 0, 0, 1, 0,\n",
              "       0, 1, 0, 1, 1, 0, 0, 1, 0, 0, 1, 1, 0, 1, 1, 0, 0, 0, 1, 1, 1, 1,\n",
              "       0, 1, 0, 0, 1, 0, 1, 0, 0, 0, 1, 1, 0, 0, 0, 0, 1, 1, 0, 1, 0, 1,\n",
              "       1, 1, 1, 0, 0, 0, 0, 1, 1, 1, 1, 1, 1, 1, 1, 0, 0, 0, 0, 0, 1, 1,\n",
              "       1, 1, 1, 1, 0, 1, 1, 0, 0, 1, 1, 1, 0, 0, 0, 0, 1, 0, 1, 1, 0, 1,\n",
              "       0, 1, 0, 0, 0, 0, 1, 0])"
            ]
          },
          "metadata": {},
          "execution_count": 4
        }
      ]
    },
    {
      "cell_type": "code",
      "source": [
        "plt.scatter(X[:,0], X[:,1],c=y, s=100)\n",
        "plt.show()"
      ],
      "metadata": {
        "colab": {
          "base_uri": "https://localhost:8080/",
          "height": 430
        },
        "id": "rSJzcZi3vkT_",
        "outputId": "fdd4e5c0-061a-47af-85d4-9f864ab311d1"
      },
      "execution_count": null,
      "outputs": [
        {
          "output_type": "display_data",
          "data": {
            "text/plain": [
              "<Figure size 640x480 with 1 Axes>"
            ],
            "image/png": "[encoded data removed]"
          },
          "metadata": {}
        }
      ]
    },
    {
      "cell_type": "code",
      "source": [
        "model = Sequential()\n",
        "model.add(Dense(10,activation='relu',input_dim=2))\n",
        "model.add(Dense(10,activation='relu'))\n",
        "model.add(Dense(10,activation='relu'))\n",
        "model.add(Dense(10,activation='relu'))\n",
        "model.add(Dense(10,activation='relu'))\n",
        "model.add(Dense(10,activation='relu'))\n",
        "model.add(Dense(10,activation='relu'))\n",
        "model.add(Dense(10,activation='relu'))\n",
        "model.add(Dense(10,activation='relu'))\n",
        "model.add(Dense(10,activation='relu'))\n",
        "model.add(Dense(10,activation='relu'))\n",
        "model.add(Dense(1,activation='sigmoid'))\n",
        "\n",
        "\n",
        "\n",
        "\n"
      ],
      "metadata": {
        "id": "mAC_a5MBwPzM"
      },
      "execution_count": null,
      "outputs": []
    },
    {
      "cell_type": "code",
      "source": [
        "model.compile(loss='binary_crossentropy', optimizer = 'adam',metrics=['accuracy'])"
      ],
      "metadata": {
        "id": "o4LX9pA7x5aX"
      },
      "execution_count": null,
      "outputs": []
    },
    {
      "cell_type": "code",
      "source": [
        "model.get_weights()"
      ],
      "metadata": {
        "colab": {
          "base_uri": "https://localhost:8080/"
        },
        "id": "4srZyhbuyfeb",
        "outputId": "d68d921f-4765-4575-c420-1eaebebe5a56"
      },
      "execution_count": null,
      "outputs": [
        {
          "output_type": "execute_result",
          "data": {
            "text/plain": [
              "[array([[ 0.47564524,  0.09022629,  0.05410141, -0.5032069 , -0.52227986,\n",
              "         -0.33856007,  0.18891227,  0.14189816,  0.36542362,  0.2215783 ],\n",
              "        [ 0.43748456, -0.15898567,  0.4912687 ,  0.35784096, -0.24552462,\n",
              "          0.57980615,  0.2159679 ,  0.03893679, -0.08352292, -0.34307164]],\n",
              "       dtype=float32),\n",
              " array([0., 0., 0., 0., 0., 0., 0., 0., 0., 0.], dtype=float32),\n",
              " array([[-0.44021377,  0.41181558,  0.29540545, -0.35962903, -0.2992708 ,\n",
              "         -0.18785027, -0.3263542 ,  0.33032537,  0.12049234, -0.28922474],\n",
              "        [ 0.2516591 , -0.4210608 ,  0.19574034, -0.2741196 ,  0.43473613,\n",
              "          0.43669027,  0.10203737, -0.36876205,  0.19271344,  0.32510453],\n",
              "        [ 0.2789508 ,  0.13885486,  0.08147466,  0.20033205,  0.4299599 ,\n",
              "         -0.5440159 ,  0.06579024,  0.18418062, -0.2919535 ,  0.34842217],\n",
              "        [-0.16648215, -0.05638468, -0.47826022,  0.3201627 , -0.39189962,\n",
              "          0.20561236,  0.19508415, -0.2529147 ,  0.22453743, -0.4227647 ],\n",
              "        [-0.5065556 , -0.2481856 , -0.41002733,  0.34662974,  0.28267503,\n",
              "         -0.4604075 , -0.07379407,  0.25031197, -0.41231054, -0.4626506 ],\n",
              "        [ 0.22693396, -0.4388495 , -0.49826148,  0.38232076, -0.4042106 ,\n",
              "          0.36847603,  0.1251173 ,  0.13584888,  0.16585809, -0.43156248],\n",
              "        [ 0.4067142 , -0.36340797, -0.48162675, -0.17059916, -0.39179358,\n",
              "          0.17442656, -0.2913221 ,  0.5111674 , -0.15239373, -0.23972514],\n",
              "        [-0.29211947,  0.01799154, -0.4365872 ,  0.05675554, -0.06736237,\n",
              "          0.05017883,  0.50272226,  0.27549404, -0.15928927, -0.27637   ],\n",
              "        [ 0.3369826 ,  0.312819  , -0.52971894, -0.2828683 ,  0.05280018,\n",
              "         -0.11237776, -0.34046954, -0.40441653,  0.33595997, -0.4271595 ],\n",
              "        [ 0.43719655, -0.41593993,  0.33914644,  0.1184895 ,  0.5342157 ,\n",
              "          0.14072132,  0.43128395,  0.15127563, -0.13332865,  0.03624749]],\n",
              "       dtype=float32),\n",
              " array([0., 0., 0., 0., 0., 0., 0., 0., 0., 0.], dtype=float32),\n",
              " array([[ 0.2874298 ,  0.46720195, -0.27812588, -0.01473689, -0.03509623,\n",
              "         -0.2527452 , -0.07518443, -0.27952668, -0.06255364,  0.35530818],\n",
              "        [-0.37304503, -0.08062378,  0.07314503, -0.42225802,  0.42566514,\n",
              "          0.24225903, -0.24064773, -0.14388782,  0.41688764,  0.50698423],\n",
              "        [-0.08688816,  0.32699895, -0.42817062,  0.12089336,  0.48668993,\n",
              "          0.47258365, -0.28678578,  0.06826985, -0.2999295 ,  0.06314993],\n",
              "        [ 0.482239  , -0.21919942,  0.05893415,  0.2133699 , -0.42749026,\n",
              "         -0.49452394,  0.2954685 ,  0.04610437,  0.266074  , -0.36243966],\n",
              "        [ 0.04544199, -0.47329962,  0.24787706,  0.47035742, -0.52991855,\n",
              "          0.51619756,  0.4501261 , -0.34736845,  0.0781408 , -0.08606666],\n",
              "        [ 0.32874238,  0.11059225,  0.54696643, -0.12031525,  0.06957024,\n",
              "          0.05441856, -0.06178343, -0.2539193 , -0.36246592,  0.50802755],\n",
              "        [-0.11891013, -0.08681414, -0.0205304 ,  0.54662085, -0.5460764 ,\n",
              "          0.05165493,  0.23443216, -0.46738648, -0.05623791, -0.31400734],\n",
              "        [ 0.4893186 , -0.13070595,  0.21501565,  0.4469869 , -0.16098481,\n",
              "          0.17873842,  0.49797916,  0.00565875, -0.33046418,  0.27676278],\n",
              "        [-0.01703221,  0.00341588, -0.26997644, -0.22780696, -0.4926696 ,\n",
              "          0.10878229, -0.35563594, -0.17018104, -0.15502155,  0.4825145 ],\n",
              "        [-0.3738411 , -0.23862231,  0.4980842 ,  0.50183105,  0.43472624,\n",
              "          0.46689677, -0.14534295, -0.5386449 , -0.13974714, -0.08021936]],\n",
              "       dtype=float32),\n",
              " array([0., 0., 0., 0., 0., 0., 0., 0., 0., 0.], dtype=float32),\n",
              " array([[ 0.29881322,  0.16881156,  0.468956  , -0.29365936, -0.04390693,\n",
              "          0.15892977,  0.43267184,  0.01986635,  0.17553431, -0.06639394],\n",
              "        [ 0.45982492, -0.16723132, -0.23456457,  0.5323347 , -0.47515357,\n",
              "         -0.33736885, -0.2664685 ,  0.27695245, -0.04976639, -0.44012612],\n",
              "        [ 0.02122015,  0.12935412,  0.40464085,  0.0249815 ,  0.5124011 ,\n",
              "         -0.49111313, -0.40673918,  0.38525063, -0.14926279, -0.24730352],\n",
              "        [ 0.15325457,  0.54499626, -0.10649416,  0.01470268,  0.2091937 ,\n",
              "         -0.3793059 ,  0.5361558 , -0.37147003, -0.26699173, -0.51390046],\n",
              "        [ 0.05622655,  0.17544973,  0.34421545, -0.30734557,  0.3083182 ,\n",
              "          0.35881037, -0.5395743 ,  0.4714924 ,  0.41938925,  0.17433512],\n",
              "        [-0.47020483,  0.14399594,  0.44151884,  0.06198663, -0.3226466 ,\n",
              "          0.14745218,  0.37129045,  0.4266519 , -0.3683101 ,  0.26481253],\n",
              "        [ 0.18757248,  0.09473854,  0.05995101, -0.23950821, -0.22011119,\n",
              "         -0.44706357, -0.22321108,  0.25232446,  0.4592291 ,  0.09160459],\n",
              "        [-0.14625758,  0.19118726,  0.20429981, -0.5416787 ,  0.49556565,\n",
              "         -0.385014  , -0.02356774,  0.10668182,  0.04586482,  0.35521442],\n",
              "        [ 0.38513023,  0.20952332,  0.38753253,  0.418468  ,  0.1818546 ,\n",
              "          0.46714258,  0.4335931 ,  0.23126662,  0.25451088,  0.3087678 ],\n",
              "        [-0.00095719, -0.33343297,  0.0776273 , -0.37030935,  0.20940685,\n",
              "         -0.17972499,  0.36968166,  0.10714853, -0.19497433, -0.3147748 ]],\n",
              "       dtype=float32),\n",
              " array([0., 0., 0., 0., 0., 0., 0., 0., 0., 0.], dtype=float32),\n",
              " array([[-0.09610099,  0.10361809,  0.49656594,  0.17736816, -0.45259094,\n",
              "         -0.3120813 ,  0.26820898, -0.11907506,  0.21777564, -0.4570966 ],\n",
              "        [ 0.01181358, -0.3826645 ,  0.0071972 ,  0.02739984, -0.44819266,\n",
              "         -0.4270811 , -0.04255474, -0.2520455 , -0.39481747, -0.16746402],\n",
              "        [-0.13862461,  0.12376261, -0.39600998, -0.27379835,  0.37468588,\n",
              "          0.25783914,  0.54383326,  0.49300718,  0.01534033,  0.50961137],\n",
              "        [ 0.2201308 ,  0.09682965, -0.15710714,  0.37240988,  0.31074184,\n",
              "          0.01937366,  0.51874185, -0.29034021,  0.43810284,  0.22795492],\n",
              "        [-0.1341562 , -0.4696808 , -0.19490981, -0.12188935, -0.23111656,\n",
              "         -0.54281956, -0.3575096 ,  0.2794116 ,  0.39916718,  0.3303439 ],\n",
              "        [ 0.25934076,  0.1557731 ,  0.29463613,  0.21327758, -0.28869078,\n",
              "          0.31717002, -0.24967313,  0.20547956, -0.48945495,  0.49236798],\n",
              "        [ 0.1594832 , -0.32415095, -0.24666989, -0.32477203,  0.0604623 ,\n",
              "          0.29454815,  0.34040695, -0.19171107, -0.40900916,  0.1514945 ],\n",
              "        [-0.41292533, -0.15385371,  0.17773682, -0.28226158,  0.2657236 ,\n",
              "         -0.23008624, -0.32332173,  0.302702  , -0.19125089, -0.47970843],\n",
              "        [-0.38823664,  0.03653151,  0.5167686 ,  0.07193226,  0.42453635,\n",
              "         -0.53082395,  0.36902374,  0.48076212, -0.36104682, -0.11120588],\n",
              "        [-0.05670071,  0.07092887,  0.09942234, -0.04414308, -0.26593685,\n",
              "          0.53286386, -0.23917326, -0.4781021 , -0.19109952, -0.06241065]],\n",
              "       dtype=float32),\n",
              " array([0., 0., 0., 0., 0., 0., 0., 0., 0., 0.], dtype=float32),\n",
              " array([[-0.42689776,  0.1303035 , -0.0935151 , -0.16433516, -0.13102052,\n",
              "          0.42424017, -0.36255535,  0.39016986,  0.51187325, -0.13678542],\n",
              "        [ 0.4573617 , -0.1720846 , -0.33471912, -0.5216094 ,  0.13770932,\n",
              "         -0.39600736, -0.36853808,  0.39798474, -0.1457262 ,  0.40394825],\n",
              "        [-0.25591874,  0.28644347,  0.46844876,  0.20733255, -0.10263544,\n",
              "         -0.28205276, -0.17639124, -0.12122738, -0.4502374 ,  0.25277042],\n",
              "        [ 0.4969499 , -0.20994535, -0.10875005, -0.1565007 , -0.39336362,\n",
              "         -0.28249258, -0.372428  , -0.51646847,  0.46276236, -0.07369077],\n",
              "        [ 0.10581928, -0.50502175,  0.18416691, -0.12052053,  0.12297332,\n",
              "          0.2914539 ,  0.38564503,  0.34145635, -0.38400236,  0.34581828],\n",
              "        [ 0.27144414, -0.13583213, -0.36822245, -0.30154067, -0.294139  ,\n",
              "          0.2627086 ,  0.42072803, -0.06888255, -0.34402868, -0.17619991],\n",
              "        [-0.28161803,  0.3251245 , -0.01174659, -0.21459636, -0.06755266,\n",
              "          0.31655824, -0.22705999,  0.28557968, -0.07513911, -0.01721489],\n",
              "        [ 0.21542543,  0.1684339 ,  0.16875178, -0.43375883, -0.39770228,\n",
              "          0.07434839,  0.28330588, -0.2354599 , -0.47694102,  0.23057187],\n",
              "        [-0.31911734,  0.37875694, -0.30485576, -0.14079079, -0.0930455 ,\n",
              "         -0.00618476,  0.14068335, -0.29047772,  0.34430355, -0.13980827],\n",
              "        [-0.03878206,  0.19623095, -0.33831576,  0.03277713, -0.26213467,\n",
              "         -0.1119386 , -0.3721462 , -0.06463897, -0.06869033,  0.16824454]],\n",
              "       dtype=float32),\n",
              " array([0., 0., 0., 0., 0., 0., 0., 0., 0., 0.], dtype=float32),\n",
              " array([[ 0.26133978, -0.16930792, -0.38790652,  0.5152103 , -0.36296344,\n",
              "          0.09698141, -0.11637831, -0.24292701, -0.23571452, -0.26549158],\n",
              "        [-0.46582845,  0.02057272, -0.51167786,  0.39981204,  0.44746333,\n",
              "          0.22342926,  0.0087074 ,  0.49036396,  0.14991927, -0.40800324],\n",
              "        [ 0.2841726 , -0.32624024,  0.41098845,  0.40232438,  0.39176577,\n",
              "          0.52518046, -0.40840518,  0.34012896, -0.41290367,  0.13118726],\n",
              "        [-0.22954637, -0.05959192,  0.02265924, -0.12106326,  0.29497343,\n",
              "          0.09830034,  0.33939272,  0.5026307 ,  0.12753004,  0.511871  ],\n",
              "        [ 0.29761523,  0.03384811,  0.08018863,  0.54067695, -0.12733993,\n",
              "         -0.53199685, -0.45286256,  0.283718  ,  0.42474622,  0.28594285],\n",
              "        [-0.17617053, -0.12332228, -0.15971434, -0.06963396, -0.06985268,\n",
              "          0.34207404, -0.00964153,  0.26315838,  0.38704515, -0.21320638],\n",
              "        [-0.34903187,  0.23793423, -0.43108284,  0.0358637 ,  0.22531104,\n",
              "         -0.19352075,  0.02583617, -0.5107305 , -0.10925058,  0.13415515],\n",
              "        [ 0.4118138 ,  0.06247854, -0.37704858,  0.39314592, -0.4554521 ,\n",
              "         -0.4811483 ,  0.44339788,  0.4701184 , -0.08053446, -0.31855974],\n",
              "        [-0.5139326 , -0.25520325,  0.5062418 ,  0.04512507,  0.4456159 ,\n",
              "         -0.09836078,  0.17993563, -0.24913067, -0.08088207,  0.12719458],\n",
              "        [ 0.04174823, -0.32009947, -0.3756987 ,  0.02003521, -0.5353957 ,\n",
              "          0.27087682, -0.28178075,  0.08304983, -0.48749235, -0.06820533]],\n",
              "       dtype=float32),\n",
              " array([0., 0., 0., 0., 0., 0., 0., 0., 0., 0.], dtype=float32),\n",
              " array([[-0.35393947, -0.5166599 ,  0.10027063, -0.01322913,  0.17569757,\n",
              "         -0.27865437, -0.4955552 ,  0.3271234 ,  0.20105213,  0.42714095],\n",
              "        [ 0.45311975, -0.32657725, -0.3556298 , -0.31804848,  0.08287174,\n",
              "          0.35605997,  0.01066011, -0.01577103,  0.36885947, -0.15815029],\n",
              "        [-0.31981754, -0.38239586,  0.02280146,  0.23463905,  0.0962531 ,\n",
              "         -0.26919317, -0.19408438, -0.09423253,  0.50588834,  0.20191646],\n",
              "        [-0.41371748, -0.54632884,  0.35391515,  0.09646493, -0.0696559 ,\n",
              "          0.23316354, -0.4769414 , -0.5311074 , -0.22422364, -0.23049119],\n",
              "        [-0.5209197 ,  0.11578476, -0.13512841,  0.29975504, -0.16660896,\n",
              "          0.05745536, -0.13005772,  0.19757313,  0.24102199, -0.32640815],\n",
              "        [ 0.47548795, -0.3650223 ,  0.04520798,  0.36939603, -0.48527902,\n",
              "         -0.3107736 , -0.45762038, -0.23660213, -0.3083486 ,  0.04382181],\n",
              "        [ 0.2825755 ,  0.04668808,  0.48983455,  0.00954974,  0.39732057,\n",
              "         -0.29078853,  0.37032557, -0.15223467,  0.24409199, -0.36948603],\n",
              "        [ 0.05751073, -0.24189979,  0.46340382,  0.49665952, -0.32608235,\n",
              "          0.03557497, -0.30878723, -0.1971418 ,  0.00160438, -0.21859443],\n",
              "        [-0.12310198,  0.5021491 ,  0.49629283, -0.11651269, -0.42468643,\n",
              "         -0.4615512 , -0.47673863, -0.52860785,  0.29104865,  0.44209158],\n",
              "        [ 0.42914373, -0.2616929 ,  0.39399046,  0.32071233, -0.11180058,\n",
              "         -0.44104573, -0.01866484,  0.39730412,  0.414585  ,  0.4058842 ]],\n",
              "       dtype=float32),\n",
              " array([0., 0., 0., 0., 0., 0., 0., 0., 0., 0.], dtype=float32),\n",
              " array([[ 0.41255838, -0.23997456, -0.35456172, -0.10018587,  0.29548573,\n",
              "          0.43378675, -0.32994002,  0.15714687, -0.38908744,  0.26473284],\n",
              "        [ 0.2793014 , -0.39261395, -0.3855489 , -0.17237097,  0.53690183,\n",
              "         -0.38633555, -0.06754246, -0.00884467, -0.48501197, -0.31910637],\n",
              "        [-0.40420747, -0.5376628 ,  0.1317544 , -0.17150283,  0.11185217,\n",
              "          0.15605634,  0.42673832, -0.10956725, -0.11118054,  0.203287  ],\n",
              "        [ 0.04516017,  0.26779866,  0.36487418,  0.5275563 ,  0.52456844,\n",
              "          0.18303353,  0.41131783,  0.13973069, -0.44256538, -0.09818658],\n",
              "        [-0.33952135,  0.07542652,  0.42794114,  0.01954472,  0.08836395,\n",
              "          0.01256526, -0.204029  ,  0.4215023 ,  0.47018564,  0.48848855],\n",
              "        [ 0.2157796 ,  0.4401512 , -0.26463804, -0.02275401,  0.32547903,\n",
              "         -0.05696622,  0.26586753, -0.31960168,  0.14118427, -0.54202414],\n",
              "        [ 0.4914186 ,  0.5298979 ,  0.49742115,  0.06198496, -0.32933593,\n",
              "         -0.26328725, -0.06746554,  0.10560566,  0.37263733,  0.06699938],\n",
              "        [ 0.34524417, -0.24121931, -0.28016877, -0.03144264, -0.10447931,\n",
              "          0.01560611, -0.47892165,  0.19680661, -0.2833537 ,  0.45809412],\n",
              "        [ 0.23331213,  0.16535413, -0.08987835,  0.09158111,  0.01844388,\n",
              "         -0.3261693 ,  0.24244851,  0.18697351, -0.02348155,  0.17948353],\n",
              "        [ 0.10876274,  0.36701477,  0.13853115,  0.52331483, -0.20134908,\n",
              "         -0.39731285,  0.23851943, -0.04195744, -0.2886875 ,  0.34229565]],\n",
              "       dtype=float32),\n",
              " array([0., 0., 0., 0., 0., 0., 0., 0., 0., 0.], dtype=float32),\n",
              " array([[-0.17106524,  0.15711802,  0.36880332,  0.3332162 ,  0.5423058 ,\n",
              "          0.52283144, -0.11438659, -0.31881973, -0.0138979 , -0.31205165],\n",
              "        [ 0.42309105,  0.38647044,  0.36638302, -0.15994796,  0.20937377,\n",
              "          0.13858843,  0.09872305, -0.5162054 ,  0.30564886, -0.50619125],\n",
              "        [-0.3933289 ,  0.13324767, -0.31683153, -0.46634817, -0.37930292,\n",
              "         -0.40379483,  0.14085191, -0.38935906, -0.26510045,  0.39996284],\n",
              "        [ 0.44704175,  0.342627  ,  0.06978619,  0.48388112, -0.4803969 ,\n",
              "          0.3321398 , -0.381975  ,  0.36991763, -0.5009384 ,  0.23823828],\n",
              "        [-0.33152598, -0.35496718, -0.46730083, -0.2559118 , -0.3956784 ,\n",
              "         -0.29388618, -0.42892033, -0.15088025, -0.4734486 ,  0.53093266],\n",
              "        [-0.05215159,  0.4105304 ,  0.4150675 ,  0.34611702, -0.03013551,\n",
              "          0.22956651,  0.52190876,  0.00582236,  0.4493183 , -0.17140451],\n",
              "        [-0.25344345, -0.18781763, -0.5000445 ,  0.43497902, -0.42957038,\n",
              "          0.30193156, -0.11806053,  0.1932733 , -0.21431991, -0.1813725 ],\n",
              "        [ 0.38292044, -0.00750172,  0.20847535, -0.5057743 ,  0.21829969,\n",
              "          0.09095752,  0.46985757, -0.30093947,  0.5342449 ,  0.27790517],\n",
              "        [-0.33268315,  0.38556522,  0.26506597,  0.50296414,  0.23371828,\n",
              "          0.46642685, -0.47370493, -0.14758709, -0.31001908, -0.21619436],\n",
              "        [-0.24886742, -0.49391973,  0.31525064,  0.39881212,  0.4405282 ,\n",
              "         -0.16654116,  0.26909667,  0.07938594, -0.14541307,  0.08003563]],\n",
              "       dtype=float32),\n",
              " array([0., 0., 0., 0., 0., 0., 0., 0., 0., 0.], dtype=float32),\n",
              " array([[-0.3816387 ,  0.02045363,  0.04218149,  0.37982863,  0.18205142,\n",
              "         -0.36193454,  0.515468  , -0.03945577,  0.15275598,  0.4880885 ],\n",
              "        [-0.26429433,  0.16569716,  0.47074378, -0.31298482, -0.25658002,\n",
              "          0.33631152, -0.04750317,  0.5459225 ,  0.20071596,  0.18382728],\n",
              "        [-0.2705731 ,  0.2143091 , -0.43006206, -0.3029937 ,  0.42431152,\n",
              "          0.2222318 , -0.24217626, -0.00778782, -0.18572444, -0.39978564],\n",
              "        [-0.2587188 , -0.10090202,  0.17539239, -0.5294589 , -0.4030912 ,\n",
              "          0.50221264, -0.23272854,  0.1404677 ,  0.37896067, -0.4985088 ],\n",
              "        [-0.02357507,  0.07014257, -0.40479565,  0.09633392,  0.18870455,\n",
              "          0.14375603,  0.39235342, -0.00248533, -0.07348758, -0.40243107],\n",
              "        [ 0.54309416, -0.42894682, -0.14093536,  0.5156547 , -0.47869626,\n",
              "          0.38188303,  0.28143013, -0.226803  , -0.12299097,  0.5185119 ],\n",
              "        [ 0.17532462, -0.42255378,  0.50597095,  0.24624926, -0.5043778 ,\n",
              "         -0.4863283 , -0.11958736, -0.14857131,  0.08681464,  0.5383129 ],\n",
              "        [ 0.02905947, -0.46057728, -0.10753664, -0.5208597 , -0.34656823,\n",
              "         -0.13668397,  0.05398983,  0.3469802 , -0.06204826,  0.04724371],\n",
              "        [-0.29893458, -0.335581  , -0.334193  , -0.5417751 ,  0.38963312,\n",
              "          0.01413709,  0.5301336 , -0.3440522 ,  0.23076779,  0.30407828],\n",
              "        [-0.5232401 , -0.47834092, -0.42147267,  0.33237284, -0.24431226,\n",
              "          0.0448066 , -0.5004975 ,  0.13141453,  0.35297668,  0.00993389]],\n",
              "       dtype=float32),\n",
              " array([0., 0., 0., 0., 0., 0., 0., 0., 0., 0.], dtype=float32),\n",
              " array([[-0.5405656 ],\n",
              "        [ 0.18443173],\n",
              "        [-0.41989258],\n",
              "        [ 0.13534433],\n",
              "        [ 0.6149313 ],\n",
              "        [ 0.07391471],\n",
              "        [ 0.73495597],\n",
              "        [-0.3960098 ],\n",
              "        [-0.6429805 ],\n",
              "        [-0.42731592]], dtype=float32),\n",
              " array([0.], dtype=float32)]"
            ]
          },
          "metadata": {},
          "execution_count": 8
        }
      ]
    },
    {
      "cell_type": "code",
      "source": [
        "model.get_weights()[0]"
      ],
      "metadata": {
        "colab": {
          "base_uri": "https://localhost:8080/"
        },
        "id": "HG7j-qJGyj-z",
        "outputId": "e32023ec-c0ed-47b2-d65a-598b971423c4"
      },
      "execution_count": null,
      "outputs": [
        {
          "output_type": "execute_result",
          "data": {
            "text/plain": [
              "array([[ 0.47564524,  0.09022629,  0.05410141, -0.5032069 , -0.52227986,\n",
              "        -0.33856007,  0.18891227,  0.14189816,  0.36542362,  0.2215783 ],\n",
              "       [ 0.43748456, -0.15898567,  0.4912687 ,  0.35784096, -0.24552462,\n",
              "         0.57980615,  0.2159679 ,  0.03893679, -0.08352292, -0.34307164]],\n",
              "      dtype=float32)"
            ]
          },
          "metadata": {},
          "execution_count": 9
        }
      ]
    },
    {
      "cell_type": "code",
      "source": [
        "old_weights=model.get_weights()[0]"
      ],
      "metadata": {
        "id": "8MKcbQDyy1ti"
      },
      "execution_count": null,
      "outputs": []
    },
    {
      "cell_type": "code",
      "source": [
        "X_train,Xtest,y_train, y_test = train_test_split(X,y,test_size=0.20,random_state=42)"
      ],
      "metadata": {
        "id": "esuaaEHrzAIV"
      },
      "execution_count": null,
      "outputs": []
    },
    {
      "cell_type": "code",
      "source": [
        "model.fit(X_train,y_train,epochs=100)"
      ],
      "metadata": {
        "colab": {
          "base_uri": "https://localhost:8080/"
        },
        "id": "oV5MDVCnzvqM",
        "outputId": "c72310b4-7a3e-45c7-d21c-db249d624b8d"
      },
      "execution_count": null,
      "outputs": [
        {
          "output_type": "stream",
          "name": "stdout",
          "text": [
            "Epoch 1/100\n",
            "7/7 [==============================] - 9s 8ms/step - loss: 0.6910 - accuracy: 0.5100\n",
            "Epoch 2/100\n",
            "7/7 [==============================] - 0s 6ms/step - loss: 0.6887 - accuracy: 0.5100\n",
            "Epoch 3/100\n",
            "7/7 [==============================] - 0s 6ms/step - loss: 0.6851 - accuracy: 0.5100\n",
            "Epoch 4/100\n",
            "7/7 [==============================] - 0s 6ms/step - loss: 0.6803 - accuracy: 0.5100\n",
            "Epoch 5/100\n",
            "7/7 [==============================] - 0s 6ms/step - loss: 0.6725 - accuracy: 0.5100\n",
            "Epoch 6/100\n",
            "7/7 [==============================] - 0s 6ms/step - loss: 0.6615 - accuracy: 0.5100\n",
            "Epoch 7/100\n",
            "7/7 [==============================] - 0s 5ms/step - loss: 0.6458 - accuracy: 0.5100\n",
            "Epoch 8/100\n",
            "7/7 [==============================] - 0s 6ms/step - loss: 0.6223 - accuracy: 0.7100\n",
            "Epoch 9/100\n",
            "7/7 [==============================] - 0s 7ms/step - loss: 0.5906 - accuracy: 0.8200\n",
            "Epoch 10/100\n",
            "7/7 [==============================] - 0s 6ms/step - loss: 0.5482 - accuracy: 0.8250\n",
            "Epoch 11/100\n",
            "7/7 [==============================] - 0s 6ms/step - loss: 0.5105 - accuracy: 0.8300\n",
            "Epoch 12/100\n",
            "7/7 [==============================] - 0s 6ms/step - loss: 0.4855 - accuracy: 0.8300\n",
            "Epoch 13/100\n",
            "7/7 [==============================] - 0s 6ms/step - loss: 0.4673 - accuracy: 0.8300\n",
            "Epoch 14/100\n",
            "7/7 [==============================] - 0s 6ms/step - loss: 0.4415 - accuracy: 0.8350\n",
            "Epoch 15/100\n",
            "7/7 [==============================] - 0s 8ms/step - loss: 0.4166 - accuracy: 0.8500\n",
            "Epoch 16/100\n",
            "7/7 [==============================] - 0s 6ms/step - loss: 0.3937 - accuracy: 0.8550\n",
            "Epoch 17/100\n",
            "7/7 [==============================] - 0s 6ms/step - loss: 0.3694 - accuracy: 0.8650\n",
            "Epoch 18/100\n",
            "7/7 [==============================] - 0s 6ms/step - loss: 0.3475 - accuracy: 0.8750\n",
            "Epoch 19/100\n",
            "7/7 [==============================] - 0s 6ms/step - loss: 0.3257 - accuracy: 0.8800\n",
            "Epoch 20/100\n",
            "7/7 [==============================] - 0s 6ms/step - loss: 0.3020 - accuracy: 0.8750\n",
            "Epoch 21/100\n",
            "7/7 [==============================] - 0s 6ms/step - loss: 0.2844 - accuracy: 0.8700\n",
            "Epoch 22/100\n",
            "7/7 [==============================] - 0s 7ms/step - loss: 0.2657 - accuracy: 0.9050\n",
            "Epoch 23/100\n",
            "7/7 [==============================] - 0s 6ms/step - loss: 0.2518 - accuracy: 0.9100\n",
            "Epoch 24/100\n",
            "7/7 [==============================] - 0s 6ms/step - loss: 0.2328 - accuracy: 0.9150\n",
            "Epoch 25/100\n",
            "7/7 [==============================] - 0s 6ms/step - loss: 0.2174 - accuracy: 0.9050\n",
            "Epoch 26/100\n",
            "7/7 [==============================] - 0s 6ms/step - loss: 0.2067 - accuracy: 0.9050\n",
            "Epoch 27/100\n",
            "7/7 [==============================] - 0s 6ms/step - loss: 0.1947 - accuracy: 0.9050\n",
            "Epoch 28/100\n",
            "7/7 [==============================] - 0s 6ms/step - loss: 0.1791 - accuracy: 0.9150\n",
            "Epoch 29/100\n",
            "7/7 [==============================] - 0s 6ms/step - loss: 0.1620 - accuracy: 0.9200\n",
            "Epoch 30/100\n",
            "7/7 [==============================] - 0s 6ms/step - loss: 0.1628 - accuracy: 0.9300\n",
            "Epoch 31/100\n",
            "7/7 [==============================] - 0s 6ms/step - loss: 0.1376 - accuracy: 0.9300\n",
            "Epoch 32/100\n",
            "7/7 [==============================] - 0s 6ms/step - loss: 0.1317 - accuracy: 0.9350\n",
            "Epoch 33/100\n",
            "7/7 [==============================] - 0s 6ms/step - loss: 0.1271 - accuracy: 0.9450\n",
            "Epoch 34/100\n",
            "7/7 [==============================] - 0s 6ms/step - loss: 0.1118 - accuracy: 0.9400\n",
            "Epoch 35/100\n",
            "7/7 [==============================] - 0s 6ms/step - loss: 0.1062 - accuracy: 0.9450\n",
            "Epoch 36/100\n",
            "7/7 [==============================] - 0s 5ms/step - loss: 0.0924 - accuracy: 0.9600\n",
            "Epoch 37/100\n",
            "7/7 [==============================] - 0s 5ms/step - loss: 0.0811 - accuracy: 0.9550\n",
            "Epoch 38/100\n",
            "7/7 [==============================] - 0s 6ms/step - loss: 0.0729 - accuracy: 0.9650\n",
            "Epoch 39/100\n",
            "7/7 [==============================] - 0s 6ms/step - loss: 0.0602 - accuracy: 0.9800\n",
            "Epoch 40/100\n",
            "7/7 [==============================] - 0s 6ms/step - loss: 0.0483 - accuracy: 0.9850\n",
            "Epoch 41/100\n",
            "7/7 [==============================] - 0s 6ms/step - loss: 0.0362 - accuracy: 0.9950\n",
            "Epoch 42/100\n",
            "7/7 [==============================] - 0s 7ms/step - loss: 0.0262 - accuracy: 1.0000\n",
            "Epoch 43/100\n",
            "7/7 [==============================] - 0s 7ms/step - loss: 0.0183 - accuracy: 1.0000\n",
            "Epoch 44/100\n",
            "7/7 [==============================] - 0s 6ms/step - loss: 0.0152 - accuracy: 1.0000\n",
            "Epoch 45/100\n",
            "7/7 [==============================] - 0s 6ms/step - loss: 0.0102 - accuracy: 1.0000\n",
            "Epoch 46/100\n",
            "7/7 [==============================] - 0s 6ms/step - loss: 0.0071 - accuracy: 1.0000\n",
            "Epoch 47/100\n",
            "7/7 [==============================] - 0s 6ms/step - loss: 0.0064 - accuracy: 1.0000\n",
            "Epoch 48/100\n",
            "7/7 [==============================] - 0s 7ms/step - loss: 0.0049 - accuracy: 1.0000\n",
            "Epoch 49/100\n",
            "7/7 [==============================] - 0s 6ms/step - loss: 0.0038 - accuracy: 1.0000\n",
            "Epoch 50/100\n",
            "7/7 [==============================] - 0s 6ms/step - loss: 0.0033 - accuracy: 1.0000\n",
            "Epoch 51/100\n",
            "7/7 [==============================] - 0s 6ms/step - loss: 0.0027 - accuracy: 1.0000\n",
            "Epoch 52/100\n",
            "7/7 [==============================] - 0s 6ms/step - loss: 0.0024 - accuracy: 1.0000\n",
            "Epoch 53/100\n",
            "7/7 [==============================] - 0s 6ms/step - loss: 0.0021 - accuracy: 1.0000\n",
            "Epoch 54/100\n",
            "7/7 [==============================] - 0s 6ms/step - loss: 0.0017 - accuracy: 1.0000\n",
            "Epoch 55/100\n",
            "7/7 [==============================] - 0s 6ms/step - loss: 0.0016 - accuracy: 1.0000\n",
            "Epoch 56/100\n",
            "7/7 [==============================] - 0s 6ms/step - loss: 0.0014 - accuracy: 1.0000\n",
            "Epoch 57/100\n",
            "7/7 [==============================] - 0s 6ms/step - loss: 0.0012 - accuracy: 1.0000\n",
            "Epoch 58/100\n",
            "7/7 [==============================] - 0s 6ms/step - loss: 0.0011 - accuracy: 1.0000\n",
            "Epoch 59/100\n",
            "7/7 [==============================] - 0s 5ms/step - loss: 9.9048e-04 - accuracy: 1.0000\n",
            "Epoch 60/100\n",
            "7/7 [==============================] - 0s 6ms/step - loss: 8.8729e-04 - accuracy: 1.0000\n",
            "Epoch 61/100\n",
            "7/7 [==============================] - 0s 5ms/step - loss: 8.0904e-04 - accuracy: 1.0000\n",
            "Epoch 62/100\n",
            "7/7 [==============================] - 0s 6ms/step - loss: 7.4273e-04 - accuracy: 1.0000\n",
            "Epoch 63/100\n",
            "7/7 [==============================] - 0s 6ms/step - loss: 6.9227e-04 - accuracy: 1.0000\n",
            "Epoch 64/100\n",
            "7/7 [==============================] - 0s 6ms/step - loss: 6.5949e-04 - accuracy: 1.0000\n",
            "Epoch 65/100\n",
            "7/7 [==============================] - 0s 6ms/step - loss: 6.0491e-04 - accuracy: 1.0000\n",
            "Epoch 66/100\n",
            "7/7 [==============================] - 0s 5ms/step - loss: 5.4692e-04 - accuracy: 1.0000\n",
            "Epoch 67/100\n",
            "7/7 [==============================] - 0s 6ms/step - loss: 5.0803e-04 - accuracy: 1.0000\n",
            "Epoch 68/100\n",
            "7/7 [==============================] - 0s 6ms/step - loss: 4.7445e-04 - accuracy: 1.0000\n",
            "Epoch 69/100\n",
            "7/7 [==============================] - 0s 6ms/step - loss: 4.4149e-04 - accuracy: 1.0000\n",
            "Epoch 70/100\n",
            "7/7 [==============================] - 0s 6ms/step - loss: 4.1580e-04 - accuracy: 1.0000\n",
            "Epoch 71/100\n",
            "7/7 [==============================] - 0s 6ms/step - loss: 3.9072e-04 - accuracy: 1.0000\n",
            "Epoch 72/100\n",
            "7/7 [==============================] - 0s 6ms/step - loss: 3.7090e-04 - accuracy: 1.0000\n",
            "Epoch 73/100\n",
            "7/7 [==============================] - 0s 6ms/step - loss: 3.4843e-04 - accuracy: 1.0000\n",
            "Epoch 74/100\n",
            "7/7 [==============================] - 0s 6ms/step - loss: 3.3153e-04 - accuracy: 1.0000\n",
            "Epoch 75/100\n",
            "7/7 [==============================] - 0s 6ms/step - loss: 3.1528e-04 - accuracy: 1.0000\n",
            "Epoch 76/100\n",
            "7/7 [==============================] - 0s 6ms/step - loss: 2.9749e-04 - accuracy: 1.0000\n",
            "Epoch 77/100\n",
            "7/7 [==============================] - 0s 6ms/step - loss: 2.8116e-04 - accuracy: 1.0000\n",
            "Epoch 78/100\n",
            "7/7 [==============================] - 0s 6ms/step - loss: 2.6720e-04 - accuracy: 1.0000\n",
            "Epoch 79/100\n",
            "7/7 [==============================] - 0s 6ms/step - loss: 2.5746e-04 - accuracy: 1.0000\n",
            "Epoch 80/100\n",
            "7/7 [==============================] - 0s 6ms/step - loss: 2.4374e-04 - accuracy: 1.0000\n",
            "Epoch 81/100\n",
            "7/7 [==============================] - 0s 6ms/step - loss: 2.3169e-04 - accuracy: 1.0000\n",
            "Epoch 82/100\n",
            "7/7 [==============================] - 0s 6ms/step - loss: 2.2166e-04 - accuracy: 1.0000\n",
            "Epoch 83/100\n",
            "7/7 [==============================] - 0s 6ms/step - loss: 2.1018e-04 - accuracy: 1.0000\n",
            "Epoch 84/100\n",
            "7/7 [==============================] - 0s 8ms/step - loss: 2.0126e-04 - accuracy: 1.0000\n",
            "Epoch 85/100\n",
            "7/7 [==============================] - 0s 6ms/step - loss: 1.9483e-04 - accuracy: 1.0000\n",
            "Epoch 86/100\n",
            "7/7 [==============================] - 0s 6ms/step - loss: 1.8340e-04 - accuracy: 1.0000\n",
            "Epoch 87/100\n",
            "7/7 [==============================] - 0s 6ms/step - loss: 1.7662e-04 - accuracy: 1.0000\n",
            "Epoch 88/100\n",
            "7/7 [==============================] - 0s 6ms/step - loss: 1.6990e-04 - accuracy: 1.0000\n",
            "Epoch 89/100\n",
            "7/7 [==============================] - 0s 7ms/step - loss: 1.6340e-04 - accuracy: 1.0000\n",
            "Epoch 90/100\n",
            "7/7 [==============================] - 0s 6ms/step - loss: 1.5698e-04 - accuracy: 1.0000\n",
            "Epoch 91/100\n",
            "7/7 [==============================] - 0s 6ms/step - loss: 1.4935e-04 - accuracy: 1.0000\n",
            "Epoch 92/100\n",
            "7/7 [==============================] - 0s 6ms/step - loss: 1.4417e-04 - accuracy: 1.0000\n",
            "Epoch 93/100\n",
            "7/7 [==============================] - 0s 6ms/step - loss: 1.3901e-04 - accuracy: 1.0000\n",
            "Epoch 94/100\n",
            "7/7 [==============================] - 0s 6ms/step - loss: 1.3400e-04 - accuracy: 1.0000\n",
            "Epoch 95/100\n",
            "7/7 [==============================] - 0s 6ms/step - loss: 1.2910e-04 - accuracy: 1.0000\n",
            "Epoch 96/100\n",
            "7/7 [==============================] - 0s 6ms/step - loss: 1.2446e-04 - accuracy: 1.0000\n",
            "Epoch 97/100\n",
            "7/7 [==============================] - 0s 6ms/step - loss: 1.2009e-04 - accuracy: 1.0000\n",
            "Epoch 98/100\n",
            "7/7 [==============================] - 0s 8ms/step - loss: 1.1506e-04 - accuracy: 1.0000\n",
            "Epoch 99/100\n",
            "7/7 [==============================] - 0s 6ms/step - loss: 1.1098e-04 - accuracy: 1.0000\n",
            "Epoch 100/100\n",
            "7/7 [==============================] - 0s 6ms/step - loss: 1.0742e-04 - accuracy: 1.0000\n"
          ]
        },
        {
          "output_type": "execute_result",
          "data": {
            "text/plain": [
              "<keras.callbacks.History at 0x7923d14a2440>"
            ]
          },
          "metadata": {},
          "execution_count": 12
        }
      ]
    },
    {
      "cell_type": "code",
      "source": [
        "new_wieght = model.get_weights()[0]"
      ],
      "metadata": {
        "id": "fU_zv49Wz9x3"
      },
      "execution_count": null,
      "outputs": []
    },
    {
      "cell_type": "code",
      "source": [
        "old_weights"
      ],
      "metadata": {
        "colab": {
          "base_uri": "https://localhost:8080/"
        },
        "id": "Ll47bOKN1Dd5",
        "outputId": "7419aaa4-2197-40b1-8a14-d4e8be9494fd"
      },
      "execution_count": null,
      "outputs": [
        {
          "output_type": "execute_result",
          "data": {
            "text/plain": [
              "array([[ 0.47564524,  0.09022629,  0.05410141, -0.5032069 , -0.52227986,\n",
              "        -0.33856007,  0.18891227,  0.14189816,  0.36542362,  0.2215783 ],\n",
              "       [ 0.43748456, -0.15898567,  0.4912687 ,  0.35784096, -0.24552462,\n",
              "         0.57980615,  0.2159679 ,  0.03893679, -0.08352292, -0.34307164]],\n",
              "      dtype=float32)"
            ]
          },
          "metadata": {},
          "execution_count": 14
        }
      ]
    },
    {
      "cell_type": "code",
      "source": [
        "new_wieght"
      ],
      "metadata": {
        "colab": {
          "base_uri": "https://localhost:8080/"
        },
        "id": "W5-QIWb_1FXT",
        "outputId": "d90c9f07-135e-4112-8ad6-084ecc213896"
      },
      "execution_count": null,
      "outputs": [
        {
          "output_type": "execute_result",
          "data": {
            "text/plain": [
              "array([[ 0.50270814,  0.13619897, -0.03216537, -0.7313818 , -0.7154158 ,\n",
              "        -0.34346104,  0.16120747,  0.11810397,  0.40307608,  0.14993714],\n",
              "       [ 0.36986265, -0.1732325 ,  0.56008935,  0.54198825, -0.15922302,\n",
              "         0.6970992 ,  0.32481918,  0.12519963, -0.21718872, -0.23626763]],\n",
              "      dtype=float32)"
            ]
          },
          "metadata": {},
          "execution_count": 15
        }
      ]
    },
    {
      "cell_type": "code",
      "source": [
        "percent_change = abs(100*(old_weights - new_wieght )/ old_weights)"
      ],
      "metadata": {
        "id": "va_nq6qM1M8t"
      },
      "execution_count": null,
      "outputs": []
    },
    {
      "cell_type": "code",
      "source": [],
      "metadata": {
        "id": "KPcbu2IP2gtE"
      },
      "execution_count": null,
      "outputs": []
    },
    {
      "cell_type": "code",
      "source": [
        "percent_change"
      ],
      "metadata": {
        "colab": {
          "base_uri": "https://localhost:8080/"
        },
        "id": "Lb_GM_Bb2K1v",
        "outputId": "7d05b706-264a-4887-c8aa-ea469d93f0fd"
      },
      "execution_count": null,
      "outputs": [
        {
          "output_type": "execute_result",
          "data": {
            "text/plain": [
              "array([[  5.689722 ,  50.952637 , 159.45386  ,  45.344143 ,  36.97939  ,\n",
              "          1.4475901,  14.665435 ,  16.768497 ,  10.303785 ,  32.33221  ],\n",
              "       [ 15.456984 ,   8.961072 ,  14.008761 ,  51.460655 ,  35.149876 ,\n",
              "         20.229704 ,  50.401604 , 221.5458   , 160.03488  ,  31.131693 ]],\n",
              "      dtype=float32)"
            ]
          },
          "metadata": {},
          "execution_count": 17
        }
      ]
    },
    {
      "cell_type": "code",
      "source": [
        "from mlxtend.plotting import plot_decision_regions\n",
        "plot_decision_regions(X_train,y_train.astype('int'),model,legend=2)"
      ],
      "metadata": {
        "colab": {
          "base_uri": "https://localhost:8080/",
          "height": 465
        },
        "id": "v5G2JJCT2Mbh",
        "outputId": "4dabce1a-37ef-4838-b5d1-3ba802de8861"
      },
      "execution_count": null,
      "outputs": [
        {
          "output_type": "stream",
          "name": "stdout",
          "text": [
            "9600/9600 [==============================] - 19s 2ms/step\n"
          ]
        },
        {
          "output_type": "execute_result",
          "data": {
            "text/plain": [
              "<Axes: >"
            ]
          },
          "metadata": {},
          "execution_count": 18
        },
        {
          "output_type": "display_data",
          "data": {
            "text/plain": [
              "<Figure size 640x480 with 1 Axes>"
            ],
            "image/png": "[encoded data removed]"
          },
          "metadata": {}
        }
      ]
    },
    {
      "cell_type": "code",
      "source": [],
      "metadata": {
        "id": "D7JFhPly33pQ"
      },
      "execution_count": null,
      "outputs": []
    }
  ]
}